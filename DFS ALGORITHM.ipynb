{
 "cells": [
  {
   "cell_type": "code",
   "execution_count": 1,
   "id": "c252d26a",
   "metadata": {},
   "outputs": [
    {
     "name": "stdout",
     "output_type": "stream",
     "text": [
      "Best solution: x=300, y=1000\n",
      "Best value: 0.8582311955337556\n"
     ]
    }
   ],
   "source": [
    "import math\n",
    "\n",
    "def objective_function(x, y):\n",
    "    return ((1.38 * pow(10, -23) * x) / (1.6 * pow(10, -19))) * (math.log((2.54 / 1e-11) * y))\n",
    "\n",
    "def dfs_search(max_depth, x_range, y_range):\n",
    "    best_solution = None\n",
    "    best_value = float('-inf')\n",
    "    \n",
    "    stack = [(0, x_range, y_range)]\n",
    "    \n",
    "    while stack:\n",
    "        depth, x_range, y_range = stack.pop()\n",
    "        \n",
    "        if depth >= max_depth:\n",
    "            continue\n",
    "        \n",
    "        for x in range(x_range[0], x_range[1] + 1):\n",
    "            for y in range(y_range[0], y_range[1] + 1):\n",
    "                value = objective_function(x, y)\n",
    "                \n",
    "                if value > best_value:\n",
    "                    best_solution = (x, y)\n",
    "                    best_value = value\n",
    "                \n",
    "                stack.append((depth + 1, (x, x), (y, y)))\n",
    "                \n",
    "    return best_solution, best_value\n",
    "\n",
    "# Example usage\n",
    "best_solution, best_value = dfs_search(max_depth=10, x_range=(283, 300), y_range=(750, 1000))\n",
    "\n",
    "print(f\"Best solution: x={best_solution[0]}, y={best_solution[1]}\")\n",
    "print(f\"Best value: {best_value}\")\n"
   ]
  },
  {
   "cell_type": "code",
   "execution_count": null,
   "id": "19d24e8b",
   "metadata": {},
   "outputs": [],
   "source": []
  }
 ],
 "metadata": {
  "kernelspec": {
   "display_name": "Python 3 (ipykernel)",
   "language": "python",
   "name": "python3"
  },
  "language_info": {
   "codemirror_mode": {
    "name": "ipython",
    "version": 3
   },
   "file_extension": ".py",
   "mimetype": "text/x-python",
   "name": "python",
   "nbconvert_exporter": "python",
   "pygments_lexer": "ipython3",
   "version": "3.10.9"
  }
 },
 "nbformat": 4,
 "nbformat_minor": 5
}
